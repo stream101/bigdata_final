{
 "metadata": {
  "name": "",
  "signature": "sha256:688e9c76bfde739ca7fb767b16281859bf01e9546943d4fafcded437d7064cd6"
 },
 "nbformat": 3,
 "nbformat_minor": 0,
 "worksheets": [
  {
   "cells": [
    {
     "cell_type": "markdown",
     "metadata": {},
     "source": [
      "Case study: 50 year (1930-2008) temparature change in US"
     ]
    },
    {
     "cell_type": "code",
     "collapsed": false,
     "input": [
      "import pandas as pd\n",
      "import numpy as np\n",
      "import sklearn as sk\n",
      "import sys,os\n",
      "\n",
      "cwd=os.getcwd()\n",
      "path=cwd.split('/')\n",
      "home_dir='/'.join(path[:-2])\n",
      "print home_dir\n",
      "sys.path.append(home_dir+'/utils')\n",
      "from find_waiting_flow import *\n",
      "from AWS_keypair_management import *\n",
      "\n",
      "import pickle\n",
      "Creds= pickle.load(open('/home/ubuntu/Vault/Creds.pkl','rb'))\n",
      "print Creds.keys()\n",
      "print Creds['mrjob'].keys()\n",
      "pair=Creds['mrjob']\n",
      "key_id=pair['key_id']\n",
      "secret_key=pair['secret_key']\n",
      "ID=pair['ID']\n",
      "print ID\n"
     ],
     "language": "python",
     "metadata": {},
     "outputs": [
      {
       "output_type": "stream",
       "stream": "stdout",
       "text": [
        "/home/ubuntu/UCSD_BigData\n",
        "['launcher', 'mrjob']"
       ]
      },
      {
       "output_type": "stream",
       "stream": "stdout",
       "text": [
        "\n",
        "['key_id', 'secret_key', 's3_logs', 'ID', 's3_scratch']\n",
        "x7jin\n"
       ]
      }
     ],
     "prompt_number": 9
    },
    {
     "cell_type": "code",
     "collapsed": false,
     "input": [
      "job_flow_id=find_waiting_flow(key_id,secret_key)\n",
      "job_flow_id"
     ],
     "language": "python",
     "metadata": {},
     "outputs": [
      {
       "output_type": "stream",
       "stream": "stdout",
       "text": [
        "<boto.emr.emrobject.JobFlow object at 0x48cb890> no_script.yoavfreund.20140610.012507.678804 j-NIGXU2E6YEU3 WAITING\n",
        "<boto.emr.emrobject.JobFlow object at 0x48b1690> no_script.yoavfreund.20140610.012515.693483 j-3SOQM885E1GLH WAITING\n",
        "<boto.emr.emrobject.JobFlow object at 0x48a9110> no_script.yoavfreund.20140610.012523.713192 j-34Q4HR41T9BWU WAITING\n",
        "<boto.emr.emrobject.JobFlow object at 0x69fec90> no_script.yoavfreund.20140610.012531.672863 j-31PKW9W4C2YQK WAITING\n",
        "<boto.emr.emrobject.JobFlow object at 0x5fe0610> no_script.yoavfreund.20140611.181703.600873 j-2N4U1USC54EM6 WAITING\n",
        "<boto.emr.emrobject.JobFlow object at 0x5fd7dd0> no_script.yoavfreund.20140611.181713.270989 j-3QZOHADZF9KY1 WAITING\n",
        "<boto.emr.emrobject.JobFlow object at 0x4979110> no_script.yoavfreund.20140611.181730.511103 j-2S5LTMBIWD2WB WAITING\n",
        "<boto.emr.emrobject.JobFlow object at 0x626dd90> no_script.yoavfreund.20140611.181738.864430 j-3TFYHEIHI9VOY WAITING\n"
       ]
      },
      {
       "metadata": {},
       "output_type": "pyout",
       "prompt_number": 136,
       "text": [
        "u'j-3TFYHEIHI9VOY'"
       ]
      }
     ],
     "prompt_number": 136
    },
    {
     "cell_type": "code",
     "collapsed": false,
     "input": [
      "%%writefile hotmap.py\n",
      "\n",
      "#!/usr/bin/python\n",
      "import re,pickle,base64,zlib\n",
      "from sys import stderr\n",
      "import sys\n",
      "\n",
      "sys.path.append('/usr/lib/python2.6/dist-packages') # a hack because anaconda made mrjob unreachable\n",
      "from mrjob.job import MRJob\n",
      "from mrjob.protocol import *\n",
      "\n",
      "import traceback\n",
      "from functools import wraps\n",
      "from sys import stderr\n",
      "import csv\n",
      "from mrjob.step import MRStep\n",
      "\n",
      "class MRHotMap(MRJob):  \n",
      "    def __init__(self, *args, **kwargs):\n",
      "        super(MRHotMap, self).__init__(*args, **kwargs)\n",
      "        self.valid_stations = {}  # station: list of valid year\n",
      "        self.station_loc = {}  # station:(long, lat)\n",
      "    \n",
      "    def configure_options(self):\n",
      "        super(MRHotMap,self).configure_options()\n",
      "        self.add_file_option('--stations')\n",
      "    \n",
      "    def mapper_init1(self):  \n",
      "        f= open(self.options.stations,'rb') \n",
      "        reader = csv.reader(f)\n",
      "        for line in reader:  # station, country, state, lat, lon, list of valid years\n",
      "            try:\n",
      "                st = line[0]\n",
      "                self.valid_stations[st] = map(int, line[5:])\n",
      "                self.station_loc[st] = (float(line[3]), float(line[4]))\n",
      "            except Exception as e: \n",
      "                pass\n",
      "        f.close()\n",
      "        \n",
      "    def parse_yearmoda(self, yearmoda):\n",
      "        year = int(yearmoda[0:4])\n",
      "        mon = int(yearmoda[4:6])\n",
      "        day = int(yearmoda[6:8])\n",
      "        return (year, mon, day)\n",
      "    \n",
      "    def check_station(self,station,year,mon,day):\n",
      "        if mon > 12 or mon < 1: \n",
      "            return False\n",
      "        if day > 31 or day < 1:\n",
      "            return False\n",
      "        if station not in self.valid_stations: \n",
      "            return False\n",
      "        if (year != 1988 and year != 2008) or (year not in self.valid_stations[station]): \n",
      "            return False\n",
      "        return True\n",
      "    \n",
      "    def mapper1(self, _, line):\n",
      "        try:\n",
      "            self.increment_counter('Mrjob counter','mapper-all',1)\n",
      "            elements=line.split(',')\n",
      "            station = elements[0]\n",
      "            yearmoda = elements[2]\n",
      "            (year,mon,day) = self.parse_yearmoda(yearmoda)\n",
      "            #stderr.write(\"%s,%s,%s\\n\"%(year,mon,day))\n",
      "            if self.check_station(station,year,mon,day)==True: \n",
      "                temp = float(elements[3])\n",
      "                visib = float(elements[11])\n",
      "                if temp != 9999.9 and visib != 999.9:\n",
      "                    (lat, lon) = self.station_loc[station]\n",
      "                    yield((lat, lon, year), (temp,visib))    \n",
      "        except Exception as e:\n",
      "            self.increment_counter('Mrjob counter','mapper-error',1)\n",
      "            print e\n",
      "            pass\n",
      "    \n",
      "     \n",
      "    def reducer1(self, key, meas):\n",
      "        try:\n",
      "            self.increment_counter('MrJob Counters','reducer1',1)\n",
      "            (lat, lon, year) = key\n",
      "            meas = list(meas)\n",
      "            count = len(meas)\n",
      "            sum_temp = 0.0\n",
      "            sum_visib = 0.0\n",
      "            for each in meas:\n",
      "                sum_temp += each[0]\n",
      "                sum_visib += each[1]\n",
      "            yield ((lat, lon),(year, sum_temp/count, sum_visib/count))\n",
      "        except Exception as e:\n",
      "            self.increment_counter('Mrjob counter','reducer1-error',1)\n",
      "            pass\n",
      "    \n",
      "    def reducer2(self, loc, meas):\n",
      "        try:\n",
      "            self.increment_counter('MrJob Counters','reducer2',1)\n",
      "            meas = list(meas)\n",
      "            count = len(meas)\n",
      "            if count == 2:\n",
      "                for each in meas:\n",
      "                    (year, temp, visib) = each\n",
      "                    if int(year) == 1988:\n",
      "                        temp_1988 = temp\n",
      "                        visib_1988 = visib\n",
      "                    else: # 2008\n",
      "                        temp_2008 = temp\n",
      "                        visib_2008 = visib\n",
      "                temp_diff = temp_2008 - temp_1988\n",
      "                visib_diff = visib_2008 - visib_1988\n",
      "                yield (loc, (temp_diff, visib_diff))\n",
      "        except Exception as e:\n",
      "            self.increment_counter('Mrjob counter','reducer2-error',1)\n",
      "            pass\n",
      "     \n",
      "    def steps(self):\n",
      "        return [\n",
      "            MRStep(mapper_init = self.mapper_init1,\n",
      "                   mapper=self.mapper1,\n",
      "                   reducer=self.reducer1),\n",
      "            MRStep(reducer=self.reducer2)\n",
      "        ]\n",
      "    \n",
      "if __name__ == '__main__':\n",
      "    MRHotMap.run()"
     ],
     "language": "python",
     "metadata": {},
     "outputs": [
      {
       "output_type": "stream",
       "stream": "stdout",
       "text": [
        "Overwriting hotmap.py\n"
       ]
      }
     ],
     "prompt_number": 131
    },
    {
     "cell_type": "code",
     "collapsed": false,
     "input": [
      "!python hotmap.py -r emr --emr-job-flow-id $job_flow_id s3://xinxin.bucket/data/gsod.all.tsv --stations ~/UCSD_BigData/data/weather/ncdc/station_merge.csv > hotmap"
     ],
     "language": "python",
     "metadata": {},
     "outputs": [
      {
       "output_type": "stream",
       "stream": "stdout",
       "text": [
        "using configs in /home/ubuntu/.mrjob.conf\r\n"
       ]
      },
      {
       "output_type": "stream",
       "stream": "stdout",
       "text": [
        "creating tmp directory /tmp/hotmap.ubuntu.20140612.185726.577895\r\n"
       ]
      },
      {
       "output_type": "stream",
       "stream": "stdout",
       "text": [
        "Copying non-input files into s3://xinxin.bucket/scratch/hotmap.ubuntu.20140612.185726.577895/files/\r\n"
       ]
      },
      {
       "output_type": "stream",
       "stream": "stdout",
       "text": [
        "Adding our job to existing job flow j-3TFYHEIHI9VOY\r\n"
       ]
      },
      {
       "output_type": "stream",
       "stream": "stdout",
       "text": [
        "Job launched 30.7s ago, status RUNNING: Running step (hotmap.ubuntu.20140612.185726.577895: Step 1 of 2)\r\n"
       ]
      },
      {
       "output_type": "stream",
       "stream": "stdout",
       "text": [
        "Job launched 61.5s ago, status RUNNING: Running step (hotmap.ubuntu.20140612.185726.577895: Step 1 of 2)\r\n"
       ]
      },
      {
       "output_type": "stream",
       "stream": "stdout",
       "text": [
        "Job launched 92.4s ago, status RUNNING: Running step (hotmap.ubuntu.20140612.185726.577895: Step 1 of 2)\r\n"
       ]
      },
      {
       "output_type": "stream",
       "stream": "stdout",
       "text": [
        "Job launched 123.0s ago, status RUNNING: Running step (hotmap.ubuntu.20140612.185726.577895: Step 1 of 2)\r\n"
       ]
      },
      {
       "output_type": "stream",
       "stream": "stdout",
       "text": [
        "Job launched 153.9s ago, status RUNNING: Running step (hotmap.ubuntu.20140612.185726.577895: Step 1 of 2)\r\n"
       ]
      },
      {
       "output_type": "stream",
       "stream": "stdout",
       "text": [
        "Job launched 184.6s ago, status RUNNING: Running step (hotmap.ubuntu.20140612.185726.577895: Step 1 of 2)\r\n"
       ]
      },
      {
       "output_type": "stream",
       "stream": "stdout",
       "text": [
        "Job launched 215.3s ago, status RUNNING: Running step (hotmap.ubuntu.20140612.185726.577895: Step 1 of 2)\r\n"
       ]
      },
      {
       "output_type": "stream",
       "stream": "stdout",
       "text": [
        "Job launched 246.0s ago, status RUNNING: Running step (hotmap.ubuntu.20140612.185726.577895: Step 1 of 2)\r\n"
       ]
      },
      {
       "output_type": "stream",
       "stream": "stdout",
       "text": [
        "Job launched 276.6s ago, status RUNNING: Running step (hotmap.ubuntu.20140612.185726.577895: Step 1 of 2)\r\n"
       ]
      },
      {
       "output_type": "stream",
       "stream": "stdout",
       "text": [
        "Job launched 307.4s ago, status RUNNING: Running step (hotmap.ubuntu.20140612.185726.577895: Step 1 of 2)\r\n"
       ]
      },
      {
       "output_type": "stream",
       "stream": "stdout",
       "text": [
        "Job launched 338.2s ago, status RUNNING: Running step (hotmap.ubuntu.20140612.185726.577895: Step 1 of 2)\r\n"
       ]
      },
      {
       "output_type": "stream",
       "stream": "stdout",
       "text": [
        "Job launched 369.0s ago, status RUNNING: Running step (hotmap.ubuntu.20140612.185726.577895: Step 1 of 2)\r\n"
       ]
      },
      {
       "output_type": "stream",
       "stream": "stdout",
       "text": [
        "Job launched 399.7s ago, status RUNNING: Running step (hotmap.ubuntu.20140612.185726.577895: Step 1 of 2)\r\n"
       ]
      },
      {
       "output_type": "stream",
       "stream": "stdout",
       "text": [
        "Job launched 430.3s ago, status RUNNING: Running step (hotmap.ubuntu.20140612.185726.577895: Step 1 of 2)\r\n"
       ]
      },
      {
       "output_type": "stream",
       "stream": "stdout",
       "text": [
        "Job launched 461.0s ago, status RUNNING: Running step (hotmap.ubuntu.20140612.185726.577895: Step 1 of 2)\r\n"
       ]
      },
      {
       "output_type": "stream",
       "stream": "stdout",
       "text": [
        "Job launched 491.6s ago, status RUNNING: Running step (hotmap.ubuntu.20140612.185726.577895: Step 1 of 2)\r\n"
       ]
      },
      {
       "output_type": "stream",
       "stream": "stdout",
       "text": [
        "Job launched 522.4s ago, status RUNNING: Running step (hotmap.ubuntu.20140612.185726.577895: Step 1 of 2)\r\n"
       ]
      },
      {
       "output_type": "stream",
       "stream": "stdout",
       "text": [
        "Job launched 553.0s ago, status RUNNING: Running step (hotmap.ubuntu.20140612.185726.577895: Step 1 of 2)\r\n"
       ]
      },
      {
       "output_type": "stream",
       "stream": "stdout",
       "text": [
        "Job launched 583.8s ago, status RUNNING: Running step (hotmap.ubuntu.20140612.185726.577895: Step 2 of 2)\r\n"
       ]
      },
      {
       "output_type": "stream",
       "stream": "stdout",
       "text": [
        "Job launched 614.5s ago, status RUNNING: Running step (hotmap.ubuntu.20140612.185726.577895: Step 2 of 2)\r\n"
       ]
      },
      {
       "output_type": "stream",
       "stream": "stdout",
       "text": [
        "Job completed.\r\n",
        "Running time was 613.0s (not counting time spent waiting for the EC2 instances)\r\n",
        "ec2_key_pair_file not specified, going to S3\r\n",
        "Fetching counters from S3...\r\n",
        "Waiting 5.0s for S3 eventual consistency\r\n"
       ]
      },
      {
       "output_type": "stream",
       "stream": "stdout",
       "text": [
        "Counters may not have been uploaded to S3 yet. Try again in 5 minutes with: mrjob fetch-logs --counters j-3TFYHEIHI9VOY\r\n",
        "Counters from step 1:\r\n",
        "  (no counters found)\r\n",
        "Counters from step 2:\r\n",
        "  (no counters found)\r\n",
        "Streaming final output from s3://xinxin.bucket/scratch/hotmap.ubuntu.20140612.185726.577895/output/\r\n"
       ]
      },
      {
       "output_type": "stream",
       "stream": "stdout",
       "text": [
        "removing tmp directory /tmp/hotmap.ubuntu.20140612.185726.577895\r\n",
        "Removing all files in s3://xinxin.bucket/scratch/hotmap.ubuntu.20140612.185726.577895/\r\n"
       ]
      }
     ],
     "prompt_number": 134
    },
    {
     "cell_type": "code",
     "collapsed": false,
     "input": [
      "%%writefile us_weather.py\n",
      "\n",
      "#!/usr/bin/python\n",
      "import re,pickle,base64,zlib\n",
      "from sys import stderr\n",
      "import sys\n",
      "\n",
      "sys.path.append('/usr/lib/python2.6/dist-packages') # a hack because anaconda made mrjob unreachable\n",
      "from mrjob.job import MRJob\n",
      "from mrjob.protocol import *\n",
      "\n",
      "import traceback\n",
      "from functools import wraps\n",
      "from sys import stderr\n",
      "import csv\n",
      "\n",
      "class MRWeatherUS(MRJob):  \n",
      "    def __init__(self, *args, **kwargs):\n",
      "        super(MRWeatherUS, self).__init__(*args, **kwargs)\n",
      "        self.us_stations = {}  #  \n",
      "    \n",
      "    def configure_options(self):\n",
      "        super(MRWeatherUS,self).configure_options()\n",
      "        self.add_file_option('--stations')\n",
      "    \n",
      "    def mapper_init(self):  \n",
      "        f= open(self.options.stations,'rb') \n",
      "        reader = csv.reader(f)\n",
      "        for line in reader:  # station, country, state, lat, lon, list of valid years\n",
      "            try:\n",
      "                country = line[1]\n",
      "                if country == 'US':\n",
      "                    st = line[0]\n",
      "                    self.us_stations[st] = map(int, line[5:])\n",
      "            except Exception as e: \n",
      "                pass\n",
      "        f.close()\n",
      "        \n",
      "    def parse_yearmoda(self, yearmoda):\n",
      "        year = int(yearmoda[0:4])\n",
      "        mon = int(yearmoda[4:6])\n",
      "        day = int(yearmoda[6:8])\n",
      "        return (year, mon, day)\n",
      "    \n",
      "    def check_usStation(self,station,year,mon,day):\n",
      "        if mon > 12 or mon < 1: \n",
      "            return False\n",
      "        if day > 31 or day < 1:\n",
      "            return False\n",
      "        if station not in self.us_stations: \n",
      "            return False\n",
      "        if year < 1930 or year > 2008 or (year not in self.us_stations[station]): \n",
      "            #print year\n",
      "            return False\n",
      "        return True\n",
      "    \n",
      "    def mapper(self, _, line):\n",
      "        try:\n",
      "            self.increment_counter('Mrjob counter','mapper-all',1)\n",
      "            elements=line.split(',')\n",
      "            station = elements[0]\n",
      "            yearmoda = elements[2]\n",
      "            (year,mon,day) = self.parse_yearmoda(yearmoda)\n",
      "            #stderr.write(\"%s,%s,%s\\n\"%(year,mon,day))\n",
      "            if self.check_usStation(station,year,mon,day)==True:  \n",
      "                temp = float(elements[3])\n",
      "                visib = float(elements[11])\n",
      "                if temp != 9999.9 and visib != 999.9:\n",
      "                    yield([year, mon],[temp,visib])    \n",
      "        except Exception as e:\n",
      "            self.increment_counter('Mrjob counter','mapper-error',1)\n",
      "            pass\n",
      "    \n",
      "     \n",
      "    def reducer(self, year_mon, meas):\n",
      "        try:\n",
      "            self.increment_counter('MrJob Counters','reducer',1)\n",
      "            meas = list(meas)\n",
      "            count = len(meas)\n",
      "            sum_temp = 0.0\n",
      "            sum_visib = 0.0\n",
      "            for each in meas:\n",
      "                sum_temp += each[0]\n",
      "                sum_visib += each[1]\n",
      "            yield (year_mon,[sum_temp/count, sum_visib/count])\n",
      "        except Exception as e:\n",
      "            self.increment_counter('Mrjob counter','reducer-error',1)\n",
      "            pass\n",
      "    \n",
      "    \n",
      "if __name__ == '__main__':\n",
      "    MRWeatherUS.run()"
     ],
     "language": "python",
     "metadata": {},
     "outputs": [
      {
       "output_type": "stream",
       "stream": "stdout",
       "text": [
        "Overwriting us_weather.py\n"
       ]
      }
     ],
     "prompt_number": 74
    },
    {
     "cell_type": "code",
     "collapsed": false,
     "input": [
      "!python us_weather.py ~/UCSD_BigData/data/weather/ncdc/gsod.tail.csv --stations ~/UCSD_BigData/data/weather/ncdc/station_merge.csv"
     ],
     "language": "python",
     "metadata": {},
     "outputs": [
      {
       "output_type": "stream",
       "stream": "stdout",
       "text": [
        "using configs in /home/ubuntu/.mrjob.conf\r\n",
        "creating tmp directory /tmp/us_weather.ubuntu.20140612.164559.360949\r\n"
       ]
      },
      {
       "output_type": "stream",
       "stream": "stdout",
       "text": [
        "writing to /tmp/us_weather.ubuntu.20140612.164559.360949/step-0-mapper_part-00000\r\n"
       ]
      },
      {
       "output_type": "stream",
       "stream": "stdout",
       "text": [
        "Counters from step 1:\r\n",
        "  Mrjob counter:\r\n",
        "    mapper-all: 100\r\n",
        "writing to /tmp/us_weather.ubuntu.20140612.164559.360949/step-0-mapper-sorted\r\n",
        "> sort /tmp/us_weather.ubuntu.20140612.164559.360949/step-0-mapper_part-00000\r\n"
       ]
      },
      {
       "output_type": "stream",
       "stream": "stdout",
       "text": [
        "writing to /tmp/us_weather.ubuntu.20140612.164559.360949/step-0-reducer_part-00000\r\n",
        "Counters from step 1:\r\n",
        "  MrJob Counters:\r\n",
        "    reducer: 2\r\n",
        "  Mrjob counter:\r\n",
        "    mapper-all: 100\r\n",
        "Moving /tmp/us_weather.ubuntu.20140612.164559.360949/step-0-reducer_part-00000 -> /tmp/us_weather.ubuntu.20140612.164559.360949/output/part-00000\r\n",
        "Streaming final output from /tmp/us_weather.ubuntu.20140612.164559.360949/output\r\n",
        "[1991, 1]\t[31.683870967741942, 10.003225806451614]\r\n",
        "[1991, 2]\t[34.6, 8.1625]\r\n",
        "removing tmp directory /tmp/us_weather.ubuntu.20140612.164559.360949\r\n"
       ]
      }
     ],
     "prompt_number": 75
    },
    {
     "cell_type": "code",
     "collapsed": false,
     "input": [
      "!python us_weather.py -r emr --emr-job-flow-id $job_flow_id s3://xinxin.bucket/data/gsod.all.tsv --stations ~/UCSD_BigData/data/weather/ncdc/station_merge.csv > us80"
     ],
     "language": "python",
     "metadata": {},
     "outputs": [
      {
       "output_type": "stream",
       "stream": "stdout",
       "text": [
        "using configs in /home/ubuntu/.mrjob.conf\r\n"
       ]
      },
      {
       "output_type": "stream",
       "stream": "stdout",
       "text": [
        "creating tmp directory /tmp/us_weather.ubuntu.20140612.164602.869749\r\n"
       ]
      },
      {
       "output_type": "stream",
       "stream": "stdout",
       "text": [
        "Copying non-input files into s3://xinxin.bucket/scratch/us_weather.ubuntu.20140612.164602.869749/files/\r\n"
       ]
      },
      {
       "output_type": "stream",
       "stream": "stdout",
       "text": [
        "Adding our job to existing job flow j-3TFYHEIHI9VOY\r\n"
       ]
      },
      {
       "output_type": "stream",
       "stream": "stdout",
       "text": [
        "Job launched 30.6s ago, status RUNNING: Running step (us_weather.ubuntu.20140612.164602.869749: Step 1 of 1)\r\n"
       ]
      },
      {
       "output_type": "stream",
       "stream": "stdout",
       "text": [
        "Job launched 61.4s ago, status RUNNING: Running step (us_weather.ubuntu.20140612.164602.869749: Step 1 of 1)\r\n"
       ]
      },
      {
       "output_type": "stream",
       "stream": "stdout",
       "text": [
        "Job launched 92.1s ago, status RUNNING: Running step (us_weather.ubuntu.20140612.164602.869749: Step 1 of 1)\r\n"
       ]
      },
      {
       "output_type": "stream",
       "stream": "stdout",
       "text": [
        "Job launched 122.7s ago, status RUNNING: Running step (us_weather.ubuntu.20140612.164602.869749: Step 1 of 1)\r\n"
       ]
      },
      {
       "output_type": "stream",
       "stream": "stdout",
       "text": [
        "Job launched 153.4s ago, status RUNNING: Running step (us_weather.ubuntu.20140612.164602.869749: Step 1 of 1)\r\n"
       ]
      },
      {
       "output_type": "stream",
       "stream": "stdout",
       "text": [
        "Job launched 184.0s ago, status RUNNING: Running step (us_weather.ubuntu.20140612.164602.869749: Step 1 of 1)\r\n"
       ]
      },
      {
       "output_type": "stream",
       "stream": "stdout",
       "text": [
        "Job launched 214.6s ago, status RUNNING: Running step (us_weather.ubuntu.20140612.164602.869749: Step 1 of 1)\r\n"
       ]
      },
      {
       "output_type": "stream",
       "stream": "stdout",
       "text": [
        "Job launched 245.2s ago, status RUNNING: Running step (us_weather.ubuntu.20140612.164602.869749: Step 1 of 1)\r\n"
       ]
      },
      {
       "output_type": "stream",
       "stream": "stdout",
       "text": [
        "Job launched 275.9s ago, status RUNNING: Running step (us_weather.ubuntu.20140612.164602.869749: Step 1 of 1)\r\n"
       ]
      },
      {
       "output_type": "stream",
       "stream": "stdout",
       "text": [
        "Job launched 306.6s ago, status RUNNING: Running step (us_weather.ubuntu.20140612.164602.869749: Step 1 of 1)\r\n"
       ]
      },
      {
       "output_type": "stream",
       "stream": "stdout",
       "text": [
        "Job launched 337.2s ago, status RUNNING: Running step (us_weather.ubuntu.20140612.164602.869749: Step 1 of 1)\r\n"
       ]
      },
      {
       "output_type": "stream",
       "stream": "stdout",
       "text": [
        "Job launched 367.9s ago, status RUNNING: Running step (us_weather.ubuntu.20140612.164602.869749: Step 1 of 1)\r\n"
       ]
      },
      {
       "output_type": "stream",
       "stream": "stdout",
       "text": [
        "Job launched 398.5s ago, status RUNNING: Running step (us_weather.ubuntu.20140612.164602.869749: Step 1 of 1)\r\n"
       ]
      },
      {
       "output_type": "stream",
       "stream": "stdout",
       "text": [
        "Job launched 429.2s ago, status RUNNING: Running step (us_weather.ubuntu.20140612.164602.869749: Step 1 of 1)\r\n"
       ]
      },
      {
       "output_type": "stream",
       "stream": "stdout",
       "text": [
        "Job launched 459.8s ago, status RUNNING: Running step (us_weather.ubuntu.20140612.164602.869749: Step 1 of 1)\r\n"
       ]
      },
      {
       "output_type": "stream",
       "stream": "stdout",
       "text": [
        "Job launched 490.6s ago, status RUNNING: Running step (us_weather.ubuntu.20140612.164602.869749: Step 1 of 1)\r\n"
       ]
      },
      {
       "output_type": "stream",
       "stream": "stdout",
       "text": [
        "Job launched 521.3s ago, status RUNNING: Running step (us_weather.ubuntu.20140612.164602.869749: Step 1 of 1)\r\n"
       ]
      },
      {
       "output_type": "stream",
       "stream": "stdout",
       "text": [
        "Job launched 552.0s ago, status RUNNING: Running step (us_weather.ubuntu.20140612.164602.869749: Step 1 of 1)\r\n"
       ]
      },
      {
       "output_type": "stream",
       "stream": "stdout",
       "text": [
        "Job launched 582.6s ago, status RUNNING: Running step (us_weather.ubuntu.20140612.164602.869749: Step 1 of 1)\r\n"
       ]
      },
      {
       "output_type": "stream",
       "stream": "stdout",
       "text": [
        "Job launched 613.2s ago, status RUNNING: Running step (us_weather.ubuntu.20140612.164602.869749: Step 1 of 1)\r\n"
       ]
      },
      {
       "output_type": "stream",
       "stream": "stdout",
       "text": [
        "Job completed.\r\n",
        "Running time was 602.0s (not counting time spent waiting for the EC2 instances)\r\n",
        "ec2_key_pair_file not specified, going to S3\r\n",
        "Fetching counters from S3...\r\n",
        "Waiting 5.0s for S3 eventual consistency\r\n"
       ]
      },
      {
       "output_type": "stream",
       "stream": "stdout",
       "text": [
        "Counters may not have been uploaded to S3 yet. Try again in 5 minutes with: mrjob fetch-logs --counters j-3TFYHEIHI9VOY\r\n",
        "Counters from step 1:\r\n",
        "  (no counters found)\r\n",
        "Streaming final output from s3://xinxin.bucket/scratch/us_weather.ubuntu.20140612.164602.869749/output/\r\n"
       ]
      },
      {
       "output_type": "stream",
       "stream": "stdout",
       "text": [
        "removing tmp directory /tmp/us_weather.ubuntu.20140612.164602.869749\r\n",
        "Removing all files in s3://xinxin.bucket/scratch/us_weather.ubuntu.20140612.164602.869749/\r\n"
       ]
      }
     ],
     "prompt_number": 76
    },
    {
     "cell_type": "code",
     "collapsed": false,
     "input": [
      "import csv\n",
      "from numpy import arange,array,ones,linalg\n",
      "\n",
      "def plot_month(fig, temp, visib, loc, count):\n",
      "    # compute regression line\n",
      "    xi = arange(0,79)\n",
      "    A = array([ xi, ones(79)])\n",
      "    w = linalg.lstsq(A.T, temp)[0]\n",
      "    line1 = w[0]*xi + w[1]\n",
      "    ax1 = fig.add_subplot(4,3,loc)\n",
      "    #line1 = ax1.plot(temp, 'r')\n",
      "    ax1.plot(xi, line1,'r-', xi, temp,'r.')\n",
      "    ylabel(\"Temperature\", color='r')\n",
      "    #labels = ['1956', '1966', '1976', '1986', '1996', '2005']\n",
      "    labels = ['1930', '1940', '1950', '1960', '1970', '1980', '1990', '2000', '2008']\n",
      "    ax1.set_xticklabels(labels)\n",
      "    ax2 = fig.add_subplot(4,3,loc,sharex=ax1, frameon=False)\n",
      "    ax2.yaxis.tick_right()\n",
      "    w = linalg.lstsq(A.T, visib)[0]\n",
      "    line2 = w[0]*xi + w[1]\n",
      "    ax2.plot(xi,line2, 'b-', xi, visib, 'b.')\n",
      "    ax2.yaxis.set_label_position(\"right\")\n",
      "    ylabel(\"Visibility\",  color='b')\n",
      "    title('Month ' + str(loc))\n",
      "    grid()\n",
      "\n",
      "temp_mon = np.zeros([13,79])\n",
      "visib_mon = np.zeros([13,79])\n",
      "fread = open('/home/ubuntu/UCSD_BigData/data/weather/ncdc/us80', 'rb') \n",
      "reader = csv.reader(fread)\n",
      "for each in reader:\n",
      "    year = int(each[0])\n",
      "    mon = int(each[1])\n",
      "    avg_temp = float(each[2])\n",
      "    avg_visib = float(each[3])\n",
      "    temp_mon[mon,year-1930] = avg_temp\n",
      "    visib_mon[mon,year-1930] = avg_visib\n",
      "fread.close()\n",
      "\n",
      "\n",
      "fig = plt.figure(figsize=(7*3,4*4),dpi=300)\n",
      "for i in range(1,13):\n",
      "    plot_month(fig, temp_mon[i], visib_mon[i], i)\n",
      "\n",
      "\n"
     ],
     "language": "python",
     "metadata": {},
     "outputs": [
      {
       "metadata": {},
       "output_type": "display_data",
       "png": "[encoded data removed]",
       "text": [
        "<matplotlib.figure.Figure at 0x4a72990>"
       ]
      }
     ],
     "prompt_number": 88
    },
    {
     "cell_type": "code",
     "collapsed": false,
     "input": [
      "%%writefile calc_beijing.py\n",
      "#!/usr/bin/python\n",
      "\"\"\"\n",
      "count the number of measurement for each year\n",
      "\"\"\"\n",
      "import sys\n",
      "sys.path.append('/usr/lib/python2.6/dist-packages')\n",
      "from mrjob.job import MRJob\n",
      "import re\n",
      "from sys import stderr\n",
      "import re,pickle,base64,zlib\n",
      "import csv\n",
      "\n",
      "class MRWeatherBJ(MRJob):\n",
      "    def __init__(self, *args, **kwargs):\n",
      "        super(MRWeatherBJ, self).__init__(*args, **kwargs)\n",
      "        self.valid_stations = {}\n",
      "    \n",
      "    def configure_options(self):\n",
      "        super(MRWeatherBJ,self).configure_options()\n",
      "        self.add_file_option('--stationyear')\n",
      "    \n",
      "    def mapper_init(self):\n",
      "        f= open(self.options.stationyear,'rb')\n",
      "        reader = csv.reader(f)\n",
      "        for line in reader:\n",
      "            try:\n",
      "                st = line[0]\n",
      "                year = int(line[1])\n",
      "                if st in self.valid_stations:\n",
      "                    self.valid_stations[st].append(year)\n",
      "                else:\n",
      "                    self.valid_stations[st] = [year]\n",
      "            except Exception as e: \n",
      "                pass\n",
      "        f.close()\n",
      "    \n",
      "    \n",
      "    def mapper(self, _, line):\n",
      "        \n",
      "        self.increment_counter('MrJob Counters','mapper-all',1)\n",
      "        elements=line.split(',')\n",
      "        # 0: station 2: date 3: mean temp 11: visibility 17: max 18: min\n",
      "        #out = (elements[0], (elements[3], elements[11], elements[17], elements[18]))\n",
      "        year = int(elements[2])/10000\n",
      "        mean_temp = float(elements[3])\n",
      "        max_temp = float(elements[17].replace('*', ''))\n",
      "        min_temp = float(elements[18].replace('*', ''))\n",
      "        visible = float(elements[11])\n",
      "        out = (year, (mean_temp, max_temp, min_temp, visible))\n",
      "        #out = (year, min_temp)\n",
      "        #if mean_temp != 9999.9 and max_temp != 9999.9 and min_temp != 9999.9 and visible != 999.9:\n",
      "        if str(elements[0]) == '545110':  # BEIJING station\n",
      "            if year in self.valid_stations[str(elements[0])]:\n",
      "                yield out\n",
      "\n",
      "        \n",
      "    def reducer(self, station, info):\n",
      "        self.increment_counter('MrJob Counters','reducer',1)\n",
      "        info_list = list(info)\n",
      "        max_sum = 0.0\n",
      "        min_sum = 0.0\n",
      "        mean_sum = 0.0\n",
      "        visible_sum = 0.0\n",
      "        max_cnt = 0\n",
      "        min_cnt = 0\n",
      "        mean_cnt = 0\n",
      "        visible_cnt = 0\n",
      "        num = len(info_list)\n",
      "        for i in range(0, num):\n",
      "            if info_list[i][0] != 9999.9:\n",
      "                mean_sum = mean_sum + info_list[i][0]\n",
      "                mean_cnt = mean_cnt + 1\n",
      "            if info_list[i][1] != 9999.9:\n",
      "                max_sum = max_sum + info_list[i][1]\n",
      "                max_cnt = max_cnt + 1\n",
      "            if info_list[i][2] != 9999.9:\n",
      "                min_sum = min_sum + info_list[i][2]\n",
      "                min_cnt = min_cnt + 1\n",
      "            if info_list[i][3] != 999.9:\n",
      "                visible_sum = visible_sum + info_list[i][3]\n",
      "                visible_cnt = visible_cnt + 1\n",
      "        yield(station, (mean_sum/mean_cnt, max_sum/max_cnt, min_sum/min_cnt, visible_sum/visible_cnt))    \n",
      "     \n",
      "if __name__ == '__main__':\n",
      "    MRWeatherBJ.run()\n",
      "    "
     ],
     "language": "python",
     "metadata": {},
     "outputs": [
      {
       "output_type": "stream",
       "stream": "stdout",
       "text": [
        "Writing calc_beijing.py\n"
       ]
      }
     ],
     "prompt_number": 135
    },
    {
     "cell_type": "code",
     "collapsed": false,
     "input": [
      "!python calc_beijing.py -r emr --emr-job-flow-id $job_flow_id s3://xinxin.bucket/data/gsod.all.tsv > beijing_info --stationyear /home/ubuntu/UCSD_BigData/data/weather/ncdc/valid_station_year.csv"
     ],
     "language": "python",
     "metadata": {},
     "outputs": [
      {
       "output_type": "stream",
       "stream": "stdout",
       "text": [
        "using configs in /home/ubuntu/.mrjob.conf\r\n"
       ]
      },
      {
       "output_type": "stream",
       "stream": "stdout",
       "text": [
        "creating tmp directory /tmp/calc_beijing.ubuntu.20140612.223905.329427\r\n"
       ]
      },
      {
       "output_type": "stream",
       "stream": "stdout",
       "text": [
        "Copying non-input files into s3://xinxin.bucket/scratch/calc_beijing.ubuntu.20140612.223905.329427/files/\r\n"
       ]
      },
      {
       "output_type": "stream",
       "stream": "stdout",
       "text": [
        "Adding our job to existing job flow j-3TFYHEIHI9VOY\r\n"
       ]
      },
      {
       "output_type": "stream",
       "stream": "stdout",
       "text": [
        "Job launched 30.9s ago, status RUNNING: Running step (calc_beijing.ubuntu.20140612.223905.329427: Step 1 of 1)\r\n"
       ]
      },
      {
       "output_type": "stream",
       "stream": "stdout",
       "text": [
        "Job launched 61.7s ago, status RUNNING: Running step (calc_beijing.ubuntu.20140612.223905.329427: Step 1 of 1)\r\n"
       ]
      },
      {
       "output_type": "stream",
       "stream": "stdout",
       "text": [
        "Job launched 92.5s ago, status RUNNING: Running step (calc_beijing.ubuntu.20140612.223905.329427: Step 1 of 1)\r\n"
       ]
      },
      {
       "output_type": "stream",
       "stream": "stdout",
       "text": [
        "Job launched 123.4s ago, status RUNNING: Running step (calc_beijing.ubuntu.20140612.223905.329427: Step 1 of 1)\r\n"
       ]
      },
      {
       "output_type": "stream",
       "stream": "stdout",
       "text": [
        "Job launched 154.4s ago, status RUNNING: Running step (calc_beijing.ubuntu.20140612.223905.329427: Step 1 of 1)\r\n"
       ]
      },
      {
       "output_type": "stream",
       "stream": "stdout",
       "text": [
        "Job launched 185.3s ago, status RUNNING: Running step (calc_beijing.ubuntu.20140612.223905.329427: Step 1 of 1)\r\n"
       ]
      },
      {
       "output_type": "stream",
       "stream": "stdout",
       "text": [
        "Job launched 216.1s ago, status RUNNING: Running step (calc_beijing.ubuntu.20140612.223905.329427: Step 1 of 1)\r\n"
       ]
      },
      {
       "output_type": "stream",
       "stream": "stdout",
       "text": [
        "Job launched 247.1s ago, status RUNNING: Running step (calc_beijing.ubuntu.20140612.223905.329427: Step 1 of 1)\r\n"
       ]
      },
      {
       "output_type": "stream",
       "stream": "stdout",
       "text": [
        "Job launched 277.9s ago, status RUNNING: Running step (calc_beijing.ubuntu.20140612.223905.329427: Step 1 of 1)\r\n"
       ]
      },
      {
       "output_type": "stream",
       "stream": "stdout",
       "text": [
        "Job launched 308.8s ago, status RUNNING: Running step (calc_beijing.ubuntu.20140612.223905.329427: Step 1 of 1)\r\n"
       ]
      },
      {
       "output_type": "stream",
       "stream": "stdout",
       "text": [
        "Job launched 339.7s ago, status RUNNING: Running step (calc_beijing.ubuntu.20140612.223905.329427: Step 1 of 1)\r\n"
       ]
      },
      {
       "output_type": "stream",
       "stream": "stdout",
       "text": [
        "Job launched 370.4s ago, status RUNNING: Running step (calc_beijing.ubuntu.20140612.223905.329427: Step 1 of 1)\r\n"
       ]
      },
      {
       "output_type": "stream",
       "stream": "stdout",
       "text": [
        "Job launched 401.2s ago, status RUNNING: Running step (calc_beijing.ubuntu.20140612.223905.329427: Step 1 of 1)\r\n"
       ]
      },
      {
       "output_type": "stream",
       "stream": "stdout",
       "text": [
        "Job launched 432.1s ago, status RUNNING: Running step (calc_beijing.ubuntu.20140612.223905.329427: Step 1 of 1)\r\n"
       ]
      },
      {
       "output_type": "stream",
       "stream": "stdout",
       "text": [
        "Job launched 463.0s ago, status RUNNING: Running step (calc_beijing.ubuntu.20140612.223905.329427: Step 1 of 1)\r\n"
       ]
      },
      {
       "output_type": "stream",
       "stream": "stdout",
       "text": [
        "Job launched 494.0s ago, status RUNNING: Running step (calc_beijing.ubuntu.20140612.223905.329427: Step 1 of 1)\r\n"
       ]
      },
      {
       "output_type": "stream",
       "stream": "stdout",
       "text": [
        "Job launched 524.8s ago, status RUNNING: Running step (calc_beijing.ubuntu.20140612.223905.329427: Step 1 of 1)\r\n"
       ]
      },
      {
       "output_type": "stream",
       "stream": "stdout",
       "text": [
        "Job launched 555.6s ago, status RUNNING: Running step (calc_beijing.ubuntu.20140612.223905.329427: Step 1 of 1)\r\n"
       ]
      },
      {
       "output_type": "stream",
       "stream": "stdout",
       "text": [
        "Job completed.\r\n",
        "Running time was 516.0s (not counting time spent waiting for the EC2 instances)\r\n",
        "ec2_key_pair_file not specified, going to S3\r\n",
        "Fetching counters from S3...\r\n",
        "Waiting 5.0s for S3 eventual consistency\r\n"
       ]
      },
      {
       "output_type": "stream",
       "stream": "stdout",
       "text": [
        "Counters may not have been uploaded to S3 yet. Try again in 5 minutes with: mrjob fetch-logs --counters j-3TFYHEIHI9VOY\r\n",
        "Counters from step 1:\r\n",
        "  (no counters found)\r\n",
        "Streaming final output from s3://xinxin.bucket/scratch/calc_beijing.ubuntu.20140612.223905.329427/output/\r\n"
       ]
      },
      {
       "output_type": "stream",
       "stream": "stdout",
       "text": [
        "removing tmp directory /tmp/calc_beijing.ubuntu.20140612.223905.329427\r\n",
        "Removing all files in s3://xinxin.bucket/scratch/calc_beijing.ubuntu.20140612.223905.329427/\r\n"
       ]
      }
     ],
     "prompt_number": 137
    },
    {
     "cell_type": "code",
     "collapsed": false,
     "input": [
      "data_in=open('/home/ubuntu/UCSD_BigData/data/weather/ncdc/beijing_info', 'r')\n",
      "\n",
      "mean_per_year = [0]*(2008-1976+1)\n",
      "visible_per_year = [0]*(2008-1976+1)\n",
      "\n",
      "for line in data_in.readlines():\n",
      "    words=line.split('\\t')\n",
      "    words[1]=words[1].replace('[','')\n",
      "    words[1]=words[1].replace(']','')\n",
      "    wordss=words[1].split(',')\n",
      "    mean_per_year[int(words[0])-1976] = float(wordss[0])\n",
      "    visible_per_year[int(words[0])-1976] = float(wordss[3])\n",
      "data_in.close()"
     ],
     "language": "python",
     "metadata": {},
     "outputs": [],
     "prompt_number": 141
    },
    {
     "cell_type": "code",
     "collapsed": false,
     "input": [
      "fig = plt.figure(figsize=(6,4),dpi=300)\n",
      "# compute regression line\n",
      "xi = arange(0,33)\n",
      "A = array([ xi, ones(33)])\n",
      "w = linalg.lstsq(A.T, mean_per_year)[0]\n",
      "line1 = w[0]*xi + w[1]\n",
      "ax1 = fig.add_subplot(1,1,1)\n",
      "#line1 = ax1.plot(temp, 'r')\n",
      "ax1.plot(xi, line1,'r-', xi, mean_per_year,'r.')\n",
      "ylabel(\"Temperature\", color='r')\n",
      "#labels = ['1956', '1966', '1976', '1986', '1996', '2005']\n",
      "labels = ['1976', '1981', '1986', '1991', '1996', '2001', '2006', '2010']\n",
      "ax1.set_xticklabels(labels)\n",
      "ax2 = fig.add_subplot(1,1,1,sharex=ax1, frameon=False)\n",
      "ax2.yaxis.tick_right()\n",
      "w = linalg.lstsq(A.T, visible_per_year)[0]\n",
      "line2 = w[0]*xi + w[1]\n",
      "ax2.plot(xi,line2, 'b-', xi, visible_per_year, 'b.')\n",
      "ax2.yaxis.set_label_position(\"right\")\n",
      "ylabel(\"Visibility\",  color='b')\n",
      "title('Beijing climate change after 1976')\n",
      "grid()"
     ],
     "language": "python",
     "metadata": {},
     "outputs": [
      {
       "metadata": {},
       "output_type": "display_data",
       "png": "[encoded data removed]",
       "text": [
        "<matplotlib.figure.Figure at 0x3fcc190>"
       ]
      }
     ],
     "prompt_number": 145
    },
    {
     "cell_type": "code",
     "collapsed": false,
     "input": [],
     "language": "python",
     "metadata": {},
     "outputs": []
    }
   ],
   "metadata": {}
  }
 ]
}