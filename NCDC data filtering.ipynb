{
 "metadata": {
  "name": "",
  "signature": "sha256:ea85a3764f09846bcfdf5901c8f3688a7d8533e8691f7d741c265b001f504552"
 },
 "nbformat": 3,
 "nbformat_minor": 0,
 "worksheets": [
  {
   "cells": [
    {
     "cell_type": "markdown",
     "metadata": {},
     "source": [
      "####Input:####\n",
      "gsod raw data  \n",
      "####output:####\n",
      "(station, year) TMP, TMAX, TMIN, VISIB "
     ]
    },
    {
     "cell_type": "code",
     "collapsed": false,
     "input": [
      "import pandas as pd\n",
      "import numpy as np\n",
      "import sklearn as sk\n",
      "import sys,os\n",
      "\n",
      "cwd=os.getcwd()\n",
      "path=cwd.split('/')\n",
      "home_dir='/'.join(path[:-2])\n",
      "print home_dir\n",
      "sys.path.append(home_dir+'/utils')\n",
      "from find_waiting_flow import *\n",
      "from AWS_keypair_management import *\n",
      "\n",
      "import pickle\n",
      "Creds= pickle.load(open('/home/ubuntu/Vault/Creds.pkl','rb'))\n",
      "print Creds.keys()\n",
      "print Creds['mrjob'].keys()\n",
      "pair=Creds['mrjob']\n",
      "key_id=pair['key_id']\n",
      "secret_key=pair['secret_key']\n",
      "ID=pair['ID']\n",
      "print ID"
     ],
     "language": "python",
     "metadata": {},
     "outputs": [
      {
       "output_type": "stream",
       "stream": "stdout",
       "text": [
        "/home/ubuntu/UCSD_BigData\n",
        "['launcher', 'mrjob']\n",
        "['key_id', 'secret_key', 's3_logs', 'ID', 's3_scratch']\n",
        "x7jin\n"
       ]
      }
     ],
     "prompt_number": 5
    },
    {
     "cell_type": "code",
     "collapsed": false,
     "input": [
      "job_flow_id=find_waiting_flow(key_id,secret_key)\n",
      "job_flow_id"
     ],
     "language": "python",
     "metadata": {},
     "outputs": [
      {
       "output_type": "stream",
       "stream": "stdout",
       "text": [
        "<boto.emr.emrobject.JobFlow object at 0x51dcd50> no_script.yoavfreund.20140610.012426.319987 j-QEERH05KMYTO WAITING\n",
        "<boto.emr.emrobject.JobFlow object at 0x55269d0> no_script.yoavfreund.20140610.012507.678804 j-NIGXU2E6YEU3 WAITING\n",
        "<boto.emr.emrobject.JobFlow object at 0x5547450> no_script.yoavfreund.20140610.012515.693483 j-3SOQM885E1GLH WAITING\n",
        "<boto.emr.emrobject.JobFlow object at 0x59bf0d0> no_script.yoavfreund.20140610.012523.713192 j-34Q4HR41T9BWU WAITING\n",
        "<boto.emr.emrobject.JobFlow object at 0x59d8650> no_script.yoavfreund.20140610.012531.672863 j-31PKW9W4C2YQK WAITING\n",
        "<boto.emr.emrobject.JobFlow object at 0x55e9c10> no_script.yoavfreund.20140611.181703.600873 j-2N4U1USC54EM6 WAITING\n",
        "<boto.emr.emrobject.JobFlow object at 0x55e9ed0> no_script.yoavfreund.20140611.181713.270989 j-3QZOHADZF9KY1 WAITING\n",
        "<boto.emr.emrobject.JobFlow object at 0x55da190> no_script.yoavfreund.20140611.181722.314318 j-3MR2RR5OEXRQ7 WAITING\n",
        "<boto.emr.emrobject.JobFlow object at 0x55da750> no_script.yoavfreund.20140611.181730.511103 j-2S5LTMBIWD2WB WAITING\n"
       ]
      },
      {
       "metadata": {},
       "output_type": "pyout",
       "prompt_number": 55,
       "text": [
        "u'j-2S5LTMBIWD2WB'"
       ]
      }
     ],
     "prompt_number": 55
    },
    {
     "cell_type": "code",
     "collapsed": false,
     "input": [
      "%%writefile ncdc_filter.py\n",
      "\"\"\"\n",
      "collect the statistics for each station.\n",
      "\"\"\"\n",
      "#!/usr/bin/python\n",
      "import re,pickle,base64,zlib\n",
      "from sys import stderr\n",
      "import sys\n",
      "\n",
      "sys.path.append('/usr/lib/python2.6/dist-packages') # a hack because anaconda made mrjob unreachable\n",
      "from mrjob.job import MRJob\n",
      "from mrjob.protocol import *\n",
      "\n",
      "import traceback\n",
      "from functools import wraps\n",
      "from sys import stderr\n",
      "\n",
      "\n",
      "\n",
      "class MRWeatherFilter(MRJob):    \n",
      "    def parse_yearmoda(self, yearmoda):\n",
      "        year = int(yearmoda[0:4])\n",
      "        mon = int(yearmoda[4:6])\n",
      "        day = int(yearmoda[6:8])\n",
      "        return (year, mon, day)\n",
      "    \n",
      "    def check_yearmoda(self, year,mon,day):\n",
      "        if year > 2014: \n",
      "            return False\n",
      "        if mon > 12 or mon < 1: \n",
      "            return False\n",
      "        if day > 31 or day < 1:\n",
      "            return False\n",
      "        return True\n",
      "    \n",
      "    def mapper(self, _, line):\n",
      "        try:\n",
      "            self.increment_counter('Mrjob counter','mapper-all',1)\n",
      "            elements=line.split(',')\n",
      "            station = elements[0]\n",
      "            yearmoda = elements[2]\n",
      "            (year,mon,day) = self.parse_yearmoda(yearmoda)\n",
      "            #stderr.write(\"%s,%s,%s\\n\"%(year,mon,day))\n",
      "            assert self.check_yearmoda(year,mon,day)==True   # Data integrity checking\n",
      "            temp = float(elements[3])\n",
      "            visib = float(elements[11])\n",
      "            tmax = float(elements[17].strip('*'))\n",
      "            tmin = float(elements[18].strip('*'))\n",
      "            nTEMP = 0\n",
      "            nTMAX = 0\n",
      "            nTMIN = 0 \n",
      "            nVISIB = 0 \n",
      "            if temp != 9999.9:\n",
      "                nTEMP = 1\n",
      "            if visib != 999.9:\n",
      "                nVISIB = 1\n",
      "            if tmax != 9999.9:\n",
      "                nTMAX = 1\n",
      "            if tmin != 9999.9:\n",
      "                nTMIN = 1\n",
      "            #print station,year, temp, visib, tmax,tmin\n",
      "            yield([station,year],[nTEMP, nTMAX, nTMIN, nVISIB])    \n",
      "        except Exception as e:\n",
      "            self.increment_counter('Mrjob counter','mapper-error',1)\n",
      "            pass\n",
      "    \n",
      "    \n",
      "    def combiner(self, station_year, counts):\n",
      "        try:\n",
      "            self.increment_counter('MrJob Counters','combiner',1)\n",
      "            sum_temp = 0\n",
      "            sum_tmax = 0\n",
      "            sum_tmin = 0\n",
      "            sum_visib = 0\n",
      "            for each in counts:\n",
      "                sum_temp += each[0]\n",
      "                sum_tmax += each[1]\n",
      "                sum_tmin += each[2]\n",
      "                sum_visib += each[3]\n",
      "            yield (station_year,[sum_temp, sum_tmax, sum_tmin, sum_visib])\n",
      "        except Exception as e:\n",
      "            self.increment_counter('Mrjob counter','combiner-error',1)\n",
      "            pass\n",
      "            \n",
      "     \n",
      "    def reducer(self,station_year, counts):\n",
      "        try:\n",
      "            self.increment_counter('MrJob Counters','reducer',1)\n",
      "            sum_temp = 0\n",
      "            sum_tmax = 0\n",
      "            sum_tmin = 0\n",
      "            sum_visib = 0\n",
      "            for each in counts:\n",
      "                sum_temp += each[0]\n",
      "                sum_tmax += each[1]\n",
      "                sum_tmin += each[2]\n",
      "                sum_visib += each[3]\n",
      "            yield (station_year,[sum_temp, sum_tmax, sum_tmin, sum_visib])\n",
      "        except Exception as e:\n",
      "            self.increment_counter('Mrjob counter','reducer-error',1)\n",
      "            pass\n",
      "            \n",
      "    \n",
      "    \n",
      "if __name__ == '__main__':\n",
      "    MRWeatherFilter.run()"
     ],
     "language": "python",
     "metadata": {},
     "outputs": [
      {
       "output_type": "stream",
       "stream": "stdout",
       "text": [
        "Overwriting ncdc_filter.py\n"
       ]
      }
     ],
     "prompt_number": 50
    },
    {
     "cell_type": "code",
     "collapsed": false,
     "input": [
      "!python ncdc_filter.py ~/UCSD_BigData/data/weather/ncdc/gsod.head.csv"
     ],
     "language": "python",
     "metadata": {},
     "outputs": [
      {
       "output_type": "stream",
       "stream": "stdout",
       "text": [
        "using configs in /home/ubuntu/.mrjob.conf\r\n",
        "creating tmp directory /tmp/ncdc_filter.ubuntu.20140611.203113.492979\r\n",
        "writing to /tmp/ncdc_filter.ubuntu.20140611.203113.492979/step-0-mapper_part-00000\r\n",
        "Counters from step 1:\r\n",
        "  MrJob Counters:\r\n",
        "    combiner: 1\r\n",
        "  Mrjob counter:\r\n",
        "    mapper-all: 128\r\n",
        "writing to /tmp/ncdc_filter.ubuntu.20140611.203113.492979/step-0-mapper-sorted\r\n",
        "> sort /tmp/ncdc_filter.ubuntu.20140611.203113.492979/step-0-mapper_part-00000\r\n"
       ]
      },
      {
       "output_type": "stream",
       "stream": "stdout",
       "text": [
        "writing to /tmp/ncdc_filter.ubuntu.20140611.203113.492979/step-0-reducer_part-00000\r\n",
        "Counters from step 1:\r\n",
        "  MrJob Counters:\r\n",
        "    combiner: 1\r\n",
        "    reducer: 1\r\n",
        "  Mrjob counter:\r\n",
        "    mapper-all: 128\r\n",
        "Moving /tmp/ncdc_filter.ubuntu.20140611.203113.492979/step-0-reducer_part-00000 -> /tmp/ncdc_filter.ubuntu.20140611.203113.492979/output/part-00000\r\n",
        "Streaming final output from /tmp/ncdc_filter.ubuntu.20140611.203113.492979/output\r\n",
        "[\"080420\", 1989]\t[128, 128, 128, 128]\r\n",
        "removing tmp directory /tmp/ncdc_filter.ubuntu.20140611.203113.492979\r\n"
       ]
      }
     ],
     "prompt_number": 51
    },
    {
     "cell_type": "code",
     "collapsed": false,
     "input": [
      "!python ncdc_filter.py -r emr --emr-job-flow-id $job_flow_id  s3://xinxin.bucket/data/gsod.head.csv "
     ],
     "language": "python",
     "metadata": {},
     "outputs": [
      {
       "output_type": "stream",
       "stream": "stdout",
       "text": [
        "using configs in /home/ubuntu/.mrjob.conf\r\n"
       ]
      },
      {
       "output_type": "stream",
       "stream": "stdout",
       "text": [
        "creating tmp directory /tmp/ncdc_filter.ubuntu.20140611.204835.980966\r\n"
       ]
      },
      {
       "output_type": "stream",
       "stream": "stdout",
       "text": [
        "Copying non-input files into s3://xinxin.bucket/scratch/ncdc_filter.ubuntu.20140611.204835.980966/files/\r\n"
       ]
      },
      {
       "output_type": "stream",
       "stream": "stdout",
       "text": [
        "Adding our job to existing job flow j-2S5LTMBIWD2WB\r\n"
       ]
      },
      {
       "output_type": "stream",
       "stream": "stdout",
       "text": [
        "Job launched 30.2s ago, status RUNNING: Running step (ncdc_filter.ubuntu.20140611.204835.980966: Step 1 of 1)\r\n"
       ]
      },
      {
       "output_type": "stream",
       "stream": "stdout",
       "text": [
        "Job launched 60.4s ago, status RUNNING: Running step (ncdc_filter.ubuntu.20140611.204835.980966: Step 1 of 1)\r\n"
       ]
      },
      {
       "output_type": "stream",
       "stream": "stdout",
       "text": [
        "Job launched 90.5s ago, status RUNNING: Running step (ncdc_filter.ubuntu.20140611.204835.980966: Step 1 of 1)\r\n"
       ]
      },
      {
       "output_type": "stream",
       "stream": "stdout",
       "text": [
        "Job completed.\r\n",
        "Running time was 67.0s (not counting time spent waiting for the EC2 instances)\r\n",
        "ec2_key_pair_file not specified, going to S3\r\n",
        "Fetching counters from S3...\r\n",
        "Waiting 5.0s for S3 eventual consistency\r\n"
       ]
      },
      {
       "output_type": "stream",
       "stream": "stdout",
       "text": [
        "Counters from step 1:\r\n",
        "  File Input Format Counters :\r\n",
        "    Bytes Read: 497822\r\n",
        "  File Output Format Counters :\r\n",
        "    Bytes Written: 38\r\n",
        "  FileSystemCounters:\r\n",
        "    FILE_BYTES_READ: 368\r\n",
        "    FILE_BYTES_WRITTEN: 1893565\r\n",
        "    HDFS_BYTES_READ: 5400\r\n",
        "    S3_BYTES_READ: 497822\r\n",
        "    S3_BYTES_WRITTEN: 38\r\n",
        "  Job Counters :\r\n",
        "    Launched map tasks: 60\r\n",
        "    Launched reduce tasks: 8\r\n",
        "    Rack-local map tasks: 60\r\n",
        "    SLOTS_MILLIS_MAPS: 461254\r\n",
        "    SLOTS_MILLIS_REDUCES: 117237\r\n",
        "    Total time spent by all maps waiting after reserving slots (ms): 0\r\n",
        "    Total time spent by all reduces waiting after reserving slots (ms): 0\r\n",
        "  Map-Reduce Framework:\r\n",
        "    CPU time spent (ms): 57420\r\n",
        "    Combine input records: 256\r\n",
        "    Combine output records: 60\r\n",
        "    Map input bytes: 28269\r\n",
        "    Map input records: 256\r\n",
        "    Map output bytes: 7680\r\n",
        "    Map output materialized bytes: 9600\r\n",
        "    Map output records: 256\r\n",
        "    Physical memory (bytes) snapshot: 26691825664\r\n",
        "    Reduce input groups: 1\r\n",
        "    Reduce input records: 60\r\n",
        "    Reduce output records: 1\r\n",
        "    Reduce shuffle bytes: 9600\r\n",
        "    SPLIT_RAW_BYTES: 5400\r\n",
        "    Spilled Records: 120\r\n",
        "    Total committed heap usage (bytes): 27042250752\r\n",
        "    Virtual memory (bytes) snapshot: 126175432704\r\n",
        "  MrJob Counters:\r\n",
        "    reducer: 1\r\n",
        "  Mrjob counter:\r\n",
        "    mapper-all: 256\r\n",
        "Streaming final output from s3://xinxin.bucket/scratch/ncdc_filter.ubuntu.20140611.204835.980966/output/\r\n"
       ]
      },
      {
       "output_type": "stream",
       "stream": "stdout",
       "text": [
        "removing tmp directory /tmp/ncdc_filter.ubuntu.20140611.204835.980966\r\n",
        "Removing all files in s3://xinxin.bucket/scratch/ncdc_filter.ubuntu.20140611.204835.980966/\r\n"
       ]
      }
     ],
     "prompt_number": 56
    },
    {
     "cell_type": "code",
     "collapsed": false,
     "input": [
      "!python ncdc_filter.py -r emr --emr-job-flow-id $job_flow_id s3://xinxin.bucket/data/gsod.all.tsv > gsod.dist"
     ],
     "language": "python",
     "metadata": {},
     "outputs": [
      {
       "output_type": "stream",
       "stream": "stdout",
       "text": [
        "using configs in /home/ubuntu/.mrjob.conf\r\n"
       ]
      },
      {
       "output_type": "stream",
       "stream": "stdout",
       "text": [
        "creating tmp directory /tmp/ncdc_filter.ubuntu.20140611.205221.520849\r\n"
       ]
      },
      {
       "output_type": "stream",
       "stream": "stdout",
       "text": [
        "Copying non-input files into s3://xinxin.bucket/scratch/ncdc_filter.ubuntu.20140611.205221.520849/files/\r\n"
       ]
      },
      {
       "output_type": "stream",
       "stream": "stdout",
       "text": [
        "Adding our job to existing job flow j-2S5LTMBIWD2WB\r\n"
       ]
      },
      {
       "output_type": "stream",
       "stream": "stdout",
       "text": [
        "Job launched 30.2s ago, status RUNNING: Running step (ncdc_filter.ubuntu.20140611.205221.520849: Step 1 of 1)\r\n"
       ]
      },
      {
       "output_type": "stream",
       "stream": "stdout",
       "text": [
        "Job launched 60.4s ago, status RUNNING: Running step (ncdc_filter.ubuntu.20140611.205221.520849: Step 1 of 1)\r\n"
       ]
      },
      {
       "output_type": "stream",
       "stream": "stdout",
       "text": [
        "Job launched 90.6s ago, status RUNNING: Running step (ncdc_filter.ubuntu.20140611.205221.520849: Step 1 of 1)\r\n"
       ]
      },
      {
       "output_type": "stream",
       "stream": "stdout",
       "text": [
        "Job launched 120.9s ago, status RUNNING: Running step (ncdc_filter.ubuntu.20140611.205221.520849: Step 1 of 1)\r\n"
       ]
      },
      {
       "output_type": "stream",
       "stream": "stdout",
       "text": [
        "Job launched 151.2s ago, status RUNNING: Running step (ncdc_filter.ubuntu.20140611.205221.520849: Step 1 of 1)\r\n"
       ]
      },
      {
       "output_type": "stream",
       "stream": "stdout",
       "text": [
        "Job launched 181.4s ago, status RUNNING: Running step (ncdc_filter.ubuntu.20140611.205221.520849: Step 1 of 1)\r\n"
       ]
      },
      {
       "output_type": "stream",
       "stream": "stdout",
       "text": [
        "Job launched 211.6s ago, status RUNNING: Running step (ncdc_filter.ubuntu.20140611.205221.520849: Step 1 of 1)\r\n"
       ]
      },
      {
       "output_type": "stream",
       "stream": "stdout",
       "text": [
        "Job launched 241.7s ago, status RUNNING: Running step (ncdc_filter.ubuntu.20140611.205221.520849: Step 1 of 1)\r\n"
       ]
      },
      {
       "output_type": "stream",
       "stream": "stdout",
       "text": [
        "Job launched 271.9s ago, status RUNNING: Running step (ncdc_filter.ubuntu.20140611.205221.520849: Step 1 of 1)\r\n"
       ]
      },
      {
       "output_type": "stream",
       "stream": "stdout",
       "text": [
        "Job launched 302.1s ago, status RUNNING: Running step (ncdc_filter.ubuntu.20140611.205221.520849: Step 1 of 1)\r\n"
       ]
      },
      {
       "output_type": "stream",
       "stream": "stdout",
       "text": [
        "Job launched 332.3s ago, status RUNNING: Running step (ncdc_filter.ubuntu.20140611.205221.520849: Step 1 of 1)\r\n"
       ]
      },
      {
       "output_type": "stream",
       "stream": "stdout",
       "text": [
        "Job launched 362.5s ago, status RUNNING: Running step (ncdc_filter.ubuntu.20140611.205221.520849: Step 1 of 1)\r\n"
       ]
      },
      {
       "output_type": "stream",
       "stream": "stdout",
       "text": [
        "Job launched 392.7s ago, status RUNNING: Running step (ncdc_filter.ubuntu.20140611.205221.520849: Step 1 of 1)\r\n"
       ]
      },
      {
       "output_type": "stream",
       "stream": "stdout",
       "text": [
        "Job launched 422.9s ago, status RUNNING: Running step (ncdc_filter.ubuntu.20140611.205221.520849: Step 1 of 1)\r\n"
       ]
      },
      {
       "output_type": "stream",
       "stream": "stdout",
       "text": [
        "Job launched 453.1s ago, status RUNNING: Running step (ncdc_filter.ubuntu.20140611.205221.520849: Step 1 of 1)\r\n"
       ]
      },
      {
       "output_type": "stream",
       "stream": "stdout",
       "text": [
        "Job launched 483.3s ago, status RUNNING: Running step (ncdc_filter.ubuntu.20140611.205221.520849: Step 1 of 1)\r\n"
       ]
      },
      {
       "output_type": "stream",
       "stream": "stdout",
       "text": [
        "Job launched 513.5s ago, status RUNNING: Running step (ncdc_filter.ubuntu.20140611.205221.520849: Step 1 of 1)\r\n"
       ]
      },
      {
       "output_type": "stream",
       "stream": "stdout",
       "text": [
        "Job launched 543.7s ago, status RUNNING: Running step (ncdc_filter.ubuntu.20140611.205221.520849: Step 1 of 1)\r\n"
       ]
      },
      {
       "output_type": "stream",
       "stream": "stdout",
       "text": [
        "Job launched 573.9s ago, status RUNNING: Running step (ncdc_filter.ubuntu.20140611.205221.520849: Step 1 of 1)\r\n"
       ]
      },
      {
       "output_type": "stream",
       "stream": "stdout",
       "text": [
        "Job launched 604.0s ago, status RUNNING: Running step (ncdc_filter.ubuntu.20140611.205221.520849: Step 1 of 1)\r\n"
       ]
      },
      {
       "output_type": "stream",
       "stream": "stdout",
       "text": [
        "Job launched 634.2s ago, status RUNNING: Running step (ncdc_filter.ubuntu.20140611.205221.520849: Step 1 of 1)\r\n"
       ]
      },
      {
       "output_type": "stream",
       "stream": "stdout",
       "text": [
        "Job launched 664.4s ago, status RUNNING: Running step (ncdc_filter.ubuntu.20140611.205221.520849: Step 1 of 1)\r\n"
       ]
      },
      {
       "output_type": "stream",
       "stream": "stdout",
       "text": [
        "Job launched 694.6s ago, status RUNNING: Running step (ncdc_filter.ubuntu.20140611.205221.520849: Step 1 of 1)\r\n"
       ]
      },
      {
       "output_type": "stream",
       "stream": "stdout",
       "text": [
        "Job launched 724.8s ago, status RUNNING: Running step (ncdc_filter.ubuntu.20140611.205221.520849: Step 1 of 1)\r\n"
       ]
      },
      {
       "output_type": "stream",
       "stream": "stdout",
       "text": [
        "Job launched 755.0s ago, status RUNNING: Running step (ncdc_filter.ubuntu.20140611.205221.520849: Step 1 of 1)\r\n"
       ]
      },
      {
       "output_type": "stream",
       "stream": "stdout",
       "text": [
        "Job launched 785.2s ago, status RUNNING: Running step (ncdc_filter.ubuntu.20140611.205221.520849: Step 1 of 1)\r\n"
       ]
      },
      {
       "output_type": "stream",
       "stream": "stdout",
       "text": [
        "Job launched 815.4s ago, status RUNNING: Running step (ncdc_filter.ubuntu.20140611.205221.520849: Step 1 of 1)\r\n"
       ]
      },
      {
       "output_type": "stream",
       "stream": "stdout",
       "text": [
        "Job launched 845.7s ago, status RUNNING: Running step (ncdc_filter.ubuntu.20140611.205221.520849: Step 1 of 1)\r\n"
       ]
      },
      {
       "output_type": "stream",
       "stream": "stdout",
       "text": [
        "Job launched 875.8s ago, status RUNNING: Running step (ncdc_filter.ubuntu.20140611.205221.520849: Step 1 of 1)\r\n"
       ]
      },
      {
       "output_type": "stream",
       "stream": "stdout",
       "text": [
        "Job launched 906.0s ago, status RUNNING: Running step (ncdc_filter.ubuntu.20140611.205221.520849: Step 1 of 1)\r\n"
       ]
      },
      {
       "output_type": "stream",
       "stream": "stdout",
       "text": [
        "Job launched 936.3s ago, status RUNNING: Running step (ncdc_filter.ubuntu.20140611.205221.520849: Step 1 of 1)\r\n"
       ]
      },
      {
       "output_type": "stream",
       "stream": "stdout",
       "text": [
        "Job completed.\r\n",
        "Running time was 938.0s (not counting time spent waiting for the EC2 instances)\r\n",
        "ec2_key_pair_file not specified, going to S3\r\n",
        "Fetching counters from S3...\r\n",
        "Waiting 5.0s for S3 eventual consistency\r\n"
       ]
      },
      {
       "output_type": "stream",
       "stream": "stdout",
       "text": [
        "Counters from step 1:\r\n",
        "  File Input Format Counters :\r\n",
        "    Bytes Read: 12178548648\r\n",
        "  File Output Format Counters :\r\n",
        "    Bytes Written: 14499784\r\n",
        "  FileSystemCounters:\r\n",
        "    FILE_BYTES_READ: 32201651\r\n",
        "    FILE_BYTES_WRITTEN: 22107010\r\n",
        "    HDFS_BYTES_READ: 16198\r\n",
        "    S3_BYTES_READ: 12178548648\r\n",
        "    S3_BYTES_WRITTEN: 14499784\r\n",
        "  Job Counters :\r\n",
        "    Launched map tasks: 184\r\n",
        "    Launched reduce tasks: 10\r\n",
        "    Rack-local map tasks: 184\r\n",
        "    SLOTS_MILLIS_MAPS: 25032309\r\n",
        "    SLOTS_MILLIS_REDUCES: 3765531\r\n",
        "    Total time spent by all maps waiting after reserving slots (ms): 0\r\n",
        "    Total time spent by all reduces waiting after reserving slots (ms): 0\r\n",
        "  Map-Reduce Framework:\r\n",
        "    CPU time spent (ms): 14744070\r\n",
        "    Combine input records: 111651032\r\n",
        "    Combine output records: 393367\r\n",
        "    Map input bytes: 12177383916\r\n",
        "    Map input records: 111651032\r\n",
        "    Map output bytes: 3349530960\r\n",
        "    Map output materialized bytes: 5819890\r\n",
        "    Map output records: 111651032\r\n",
        "    Physical memory (bytes) snapshot: 106261397504\r\n",
        "    Reduce input groups: 391909\r\n",
        "    Reduce input records: 393367\r\n",
        "    Reduce output records: 391909\r\n",
        "    Reduce shuffle bytes: 5819890\r\n",
        "    SPLIT_RAW_BYTES: 16198\r\n",
        "    Spilled Records: 1179089\r\n",
        "    Total committed heap usage (bytes): 95482806272\r\n",
        "    Virtual memory (bytes) snapshot: 354629996544\r\n",
        "  MrJob Counters:\r\n",
        "    reducer: 391909\r\n",
        "  Mrjob counter:\r\n",
        "    mapper-all: 111651032\r\n",
        "Streaming final output from s3://xinxin.bucket/scratch/ncdc_filter.ubuntu.20140611.205221.520849/output/\r\n"
       ]
      },
      {
       "output_type": "stream",
       "stream": "stdout",
       "text": [
        "removing tmp directory /tmp/ncdc_filter.ubuntu.20140611.205221.520849\r\n",
        "Removing all files in s3://xinxin.bucket/scratch/ncdc_filter.ubuntu.20140611.205221.520849/\r\n"
       ]
      }
     ],
     "prompt_number": 58
    },
    {
     "cell_type": "code",
     "collapsed": false,
     "input": [
      "import sys,os\n",
      "import pandas as pd\n",
      "import numpy as np\n",
      "import csv\n",
      "from operator import itemgetter\n",
      "import base64,pickle,zlib,sys\n",
      "import pdb\n",
      "from sys import stderr\n",
      "\n",
      "def plotCDF(titles, data, loc):\n",
      "    subplot(1,4,loc)\n",
      "    plot(data)\n",
      "    title(titles)\n",
      "    xlim([0,366])\n",
      "    grid()\n",
      "\n",
      "def main():\n",
      "    f = open('/home/ubuntu/UCSD_BigData/data/weather/ncdc/gsod.dist', 'rb') \n",
      "    reader = csv.reader(f)\n",
      "    temp_bucket = np.zeros(367)\n",
      "    visib_bucket = np.zeros(367)\n",
      "    tmax_bucket = np.zeros(367)\n",
      "    tmin_bucket = np.zeros(367)\n",
      "    for row in reader:\n",
      "        try:\n",
      "            station = row[0]\n",
      "            year = int(row[1])\n",
      "            n_temp = int(row[2])\n",
      "            n_visib = int(row[3])\n",
      "            n_tmax = int(row[4])\n",
      "            n_tmin = int(row[5])\n",
      "            assert(n_temp <= 366 and n_visib <= 366 and  n_tmax <= 366 and n_tmin <= 366)\n",
      "            temp_bucket[n_temp] += 1\n",
      "            visib_bucket[n_visib] += 1\n",
      "            tmax_bucket[n_tmax] += 1\n",
      "            tmin_bucket[n_tmin] += 1\n",
      "        except Exception as e:\n",
      "            #print e\n",
      "            pass\n",
      "    \n",
      "    temp_cdf = np.cumsum(temp_bucket[:])/np.sum(temp_bucket)\n",
      "    visib_cdf = np.cumsum(visib_bucket[:])/np.sum(visib_bucket)\n",
      "    tmax_cdf = np.cumsum(tmax_bucket[:])/np.sum(tmax_bucket)\n",
      "    tmin_cdf = np.cumsum(tmin_bucket[:])/np.sum(tmin_bucket)\n",
      "    \n",
      "    \n",
      "    plt.figure(figsize=(5*4,4),dpi=300)\n",
      "    plotCDF('CDF of valid TMP for each station_year', temp_cdf, 1)\n",
      "    plotCDF('CDF of valid VISIB for each station_year', visib_cdf, 2)\n",
      "    plotCDF('CDF of valid TMAX for each station_year', tmax_cdf, 3)\n",
      "    plotCDF('CDF of valid TMIN for each station_year', tmin_cdf, 4)\n",
      "\n",
      "if __name__=='__main__':\n",
      "    main()"
     ],
     "language": "python",
     "metadata": {},
     "outputs": [
      {
       "metadata": {},
       "output_type": "display_data",
       "png": "[encoded data removed]",
       "text": [
        "<matplotlib.figure.Figure at 0x50a4510>"
       ]
      }
     ],
     "prompt_number": 74
    },
    {
     "cell_type": "code",
     "collapsed": false,
     "input": [],
     "language": "python",
     "metadata": {},
     "outputs": []
    }
   ],
   "metadata": {}
  }
 ]
}